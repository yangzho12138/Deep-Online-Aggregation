{
 "cells": [
  {
   "cell_type": "code",
   "execution_count": 1,
   "id": "8ec779f2",
   "metadata": {},
   "outputs": [],
   "source": [
    "from tpch_polars import run_thread\n",
    "import numpy as np\n",
    "import pandas as pd\n",
    "import polars as pl\n",
    "import matplotlib.pyplot as plt\n",
    "import io\n"
   ]
  },
  {
   "cell_type": "code",
   "execution_count": 3,
   "id": "11419e23",
   "metadata": {},
   "outputs": [],
   "source": [
    "def visualization():\n",
    "    result = run_thread(\"q1\",1, \"../../resources/tpc-h/data/scale=0.05/partition=5\")\n",
    "\n",
    "    for record in result:\n",
    "        buf = io.StringIO(record)\n",
    "        tmp = pl.read_json(buf)\n",
    "        df = tmp.to_pandas()\n",
    "        curFlag = df['l_returnflag']\n",
    "        curLine = df['l_linestatus']\n",
    "        thisx = \"(\" + curFlag + \", \" + curLine + \")\"\n",
    "        df.plot(kind='bar', x=thisx, y='avg_price')\n"
   ]
  },
  {
   "cell_type": "code",
   "execution_count": null,
   "id": "f831f258",
   "metadata": {},
   "outputs": [],
   "source": []
  }
 ],
 "metadata": {
  "kernelspec": {
   "display_name": "Python 3 (ipykernel)",
   "language": "python",
   "name": "python3"
  },
  "language_info": {
   "codemirror_mode": {
    "name": "ipython",
    "version": 3
   },
   "file_extension": ".py",
   "mimetype": "text/x-python",
   "name": "python",
   "nbconvert_exporter": "python",
   "pygments_lexer": "ipython3",
   "version": "3.9.12"
  }
 },
 "nbformat": 4,
 "nbformat_minor": 5
}
