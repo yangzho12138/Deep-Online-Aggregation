{
 "cells": [
  {
   "cell_type": "code",
   "execution_count": 3,
   "id": "8ec779f2",
   "metadata": {},
   "outputs": [],
   "source": [
    "from tpch_polars import run_thread\n",
    "import numpy as np\n",
    "import pandas as pd\n",
    "import polars as pl\n",
    "import matplotlib.pyplot as plt\n",
    "import io\n",
    "import plotly\n",
    "import time\n",
    "import plotly.graph_objects as go\n",
    "from matplotlib.animation import FuncAnimation\n",
    "from matplotlib import animation\n",
    "from IPython.display import clear_output"
   ]
  },
  {
   "cell_type": "code",
   "execution_count": 10,
   "id": "11419e23",
   "metadata": {},
   "outputs": [],
   "source": [
    "def visualization():\n",
    "    result = run_thread(\"q1\",1, \"../../resources/tpc-h/data/scale=1/partition=10/tbl/\")\n",
    "\n",
    "    for record in result:\n",
    "        buf = io.StringIO(record)\n",
    "        tmp = pl.read_json(buf)\n",
    "        df = tmp.to_pandas()\n",
    "        curFlag = df['l_returnflag'].tolist()\n",
    "        curLine = df['l_linestatus'].tolist()\n",
    "        avg_pr = df['avg_price'].tolist()\n",
    "        ls = len(curFlag)\n",
    "        df['l_returnflag,l_linestatus'] = \"(\" +df['l_returnflag']+\",\"+df['l_linestatus'] +\")\"\n",
    "        x_axis = df['l_returnflag,l_linestatus'].tolist()\n",
    "        lb = np.array(avg_pr).min()-500\n",
    "        ub = np.array(avg_pr).max()+500\n",
    "        clear_output(wait=True)\n",
    "        plt.figure(figsize=(10,8))\n",
    "        plt.bar(x_axis,avg_pr,color=['black', 'red', 'green', 'blue'])\n",
    "        plt.suptitle(\"NetID: kf14, yz96, yl136, siruiw4\", fontsize=15)\n",
    "        plt.title('Bar Chart of average price grouped by (return_flag,line_status) ',fontsize=15)\n",
    "        plt.xlabel('(l_returnflag,l_linestatus)', fontsize=15)\n",
    "        plt.ylabel('average price', fontsize=15)\n",
    "        plt.ylim(lb,ub)\n",
    "        plt.show()\n",
    "        time.sleep(0.5)\n",
    "        plt.pause(0.5)"
   ]
  },
  {
   "cell_type": "code",
   "execution_count": 11,
   "id": "f831f258",
   "metadata": {},
   "outputs": [
    {
     "data": {
      "image/png": "[encoded data removed]",
      "text/plain": [
       "<Figure size 720x576 with 1 Axes>"
      ]
     },
     "metadata": {
      "needs_background": "light"
     },
     "output_type": "display_data"
    }
   ],
   "source": [
    "visualization()"
   ]
  },
  {
   "cell_type": "code",
   "execution_count": null,
   "id": "72ea33a8",
   "metadata": {},
   "outputs": [],
   "source": []
  },
  {
   "cell_type": "code",
   "execution_count": null,
   "id": "debb376f",
   "metadata": {},
   "outputs": [],
   "source": []
  },
  {
   "cell_type": "code",
   "execution_count": null,
   "id": "5ba9f66e",
   "metadata": {},
   "outputs": [],
   "source": []
  },
  {
   "cell_type": "code",
   "execution_count": null,
   "id": "1572465b",
   "metadata": {},
   "outputs": [],
   "source": []
  },
  {
   "cell_type": "code",
   "execution_count": null,
   "id": "7e5aa031",
   "metadata": {},
   "outputs": [],
   "source": []
  },
  {
   "cell_type": "code",
   "execution_count": null,
   "id": "f8dd39f0",
   "metadata": {},
   "outputs": [],
   "source": []
  },
  {
   "cell_type": "code",
   "execution_count": null,
   "id": "baa3e988",
   "metadata": {},
   "outputs": [],
   "source": []
  },
  {
   "cell_type": "code",
   "execution_count": null,
   "id": "0b2ceecc",
   "metadata": {},
   "outputs": [],
   "source": []
  },
  {
   "cell_type": "code",
   "execution_count": null,
   "id": "5cad4895",
   "metadata": {},
   "outputs": [],
   "source": []
  },
  {
   "cell_type": "code",
   "execution_count": null,
   "id": "29887e58",
   "metadata": {},
   "outputs": [],
   "source": []
  },
  {
   "cell_type": "code",
   "execution_count": null,
   "id": "ab43eab3",
   "metadata": {},
   "outputs": [],
   "source": []
  },
  {
   "cell_type": "code",
   "execution_count": null,
   "id": "3c3cb8cd",
   "metadata": {},
   "outputs": [],
   "source": []
  },
  {
   "cell_type": "code",
   "execution_count": null,
   "id": "505bf7ba",
   "metadata": {},
   "outputs": [],
   "source": []
  },
  {
   "cell_type": "code",
   "execution_count": null,
   "id": "4aaba1cf",
   "metadata": {},
   "outputs": [],
   "source": []
  }
 ],
 "metadata": {
  "kernelspec": {
   "display_name": "Python 3 (ipykernel)",
   "language": "python",
   "name": "python3"
  },
  "language_info": {
   "codemirror_mode": {
    "name": "ipython",
    "version": 3
   },
   "file_extension": ".py",
   "mimetype": "text/x-python",
   "name": "python",
   "nbconvert_exporter": "python",
   "pygments_lexer": "ipython3",
   "version": "3.9.12"
  }
 },
 "nbformat": 4,
 "nbformat_minor": 5
}
