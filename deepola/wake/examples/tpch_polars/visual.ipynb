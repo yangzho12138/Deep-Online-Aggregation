{
 "cells": [
  {
   "cell_type": "code",
   "execution_count": 41,
   "id": "8ec779f2",
   "metadata": {},
   "outputs": [],
   "source": [
    "from tpch_polars import run_thread\n",
    "import numpy as np\n",
    "import pandas as pd\n",
    "import polars as pl\n",
    "import matplotlib.pyplot as plt\n",
    "import io\n",
    "import plotly\n",
    "import time\n",
    "import plotly.graph_objects as go\n",
    "from matplotlib.animation import FuncAnimation\n",
    "from matplotlib import animation\n",
    "from IPython.display import clear_output"
   ]
  },
  {
   "cell_type": "code",
   "execution_count": 66,
   "id": "11419e23",
   "metadata": {},
   "outputs": [],
   "source": [
    "def visualization():\n",
    "    result = run_thread(\"q1\",1, \"../../resources/tpc-h/data/scale=0.05/partition=5\")\n",
    "    dict_new={}\n",
    "    for record in result:\n",
    "        buf = io.StringIO(record)\n",
    "        tmp = pl.read_json(buf)\n",
    "        df = tmp.to_pandas()\n",
    "        curFlag = df['l_returnflag'].tolist()\n",
    "        curLine = df['l_linestatus'].tolist()\n",
    "        avg_pr = df['avg_price'].tolist()\n",
    "        ls = len(curFlag)\n",
    "        df['l_returnflag,l_linestatus'] = \"(\" +df['l_returnflag']+\",\"+df['l_linestatus'] +\")\"\n",
    "        for i in range(ls):\n",
    "            key = df['l_returnflag,l_linestatus'].tolist()[i]\n",
    "            val = avg_pr[i]\n",
    "            if key not in dict_new:\n",
    "                dict_new[key] = []\n",
    "                dict_new[key].append(val)\n",
    "            else:\n",
    "                dict_new[key].append(val)\n",
    "        \n",
    "    dic_key = list(dict_new.keys())\n",
    "    dic_val = list(dict_new.values())\n",
    "    avg_len = len(dic_val[0])\n",
    "#     print(avg_len)    \n",
    "    plt.ion()\n",
    "    fig = plt.figure()\n",
    "    for idx in range(0,avg_len,1):\n",
    "        new_bar=[]\n",
    "        for val_ls in dic_val:\n",
    "            new_bar.append(val_ls[idx])\n",
    "        clear_output(wait=True)\n",
    "        plt.bar(dic_key,new_bar)\n",
    "        plt.xlabel('(l_returnflag,l_linestatus)')\n",
    "        plt.ylabel('average price')\n",
    "        plt.show()\n",
    "        time.sleep(1)\n",
    "        plt.pause(0.5)"
   ]
  },
  {
   "cell_type": "code",
   "execution_count": 67,
   "id": "f831f258",
   "metadata": {},
   "outputs": [
    {
     "data": {
      "image/png": "[encoded data removed]",
      "text/plain": [
       "<Figure size 432x288 with 1 Axes>"
      ]
     },
     "metadata": {
      "needs_background": "light"
     },
     "output_type": "display_data"
    }
   ],
   "source": [
    "visualization()"
   ]
  },
  {
   "cell_type": "code",
   "execution_count": null,
   "id": "debb376f",
   "metadata": {},
   "outputs": [],
   "source": []
  }
 ],
 "metadata": {
  "kernelspec": {
   "display_name": "Python 3 (ipykernel)",
   "language": "python",
   "name": "python3"
  },
  "language_info": {
   "codemirror_mode": {
    "name": "ipython",
    "version": 3
   },
   "file_extension": ".py",
   "mimetype": "text/x-python",
   "name": "python",
   "nbconvert_exporter": "python",
   "pygments_lexer": "ipython3",
   "version": "3.7.13"
  }
 },
 "nbformat": 4,
 "nbformat_minor": 5
}
